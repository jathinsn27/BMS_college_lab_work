{
 "cells": [
  {
   "cell_type": "code",
   "execution_count": 1,
   "id": "closing-scoop",
   "metadata": {
    "execution": {
     "iopub.execute_input": "2021-06-14T19:14:27.717953Z",
     "iopub.status.busy": "2021-06-14T19:14:27.717307Z",
     "iopub.status.idle": "2021-06-14T19:14:27.720542Z",
     "shell.execute_reply": "2021-06-14T19:14:27.719948Z",
     "shell.execute_reply.started": "2021-06-14T19:10:33.492480Z"
    },
    "papermill": {
     "duration": 0.01759,
     "end_time": "2021-06-14T19:14:27.720699",
     "exception": false,
     "start_time": "2021-06-14T19:14:27.703109",
     "status": "completed"
    },
    "tags": []
   },
   "outputs": [],
   "source": [
    "import numpy as np\n",
    "import pandas as pd\n",
    "import matplotlib.pyplot as plt"
   ]
  },
  {
   "cell_type": "markdown",
   "id": "adaptive-angola",
   "metadata": {
    "papermill": {
     "duration": 0.007524,
     "end_time": "2021-06-14T19:14:27.736331",
     "exception": false,
     "start_time": "2021-06-14T19:14:27.728807",
     "status": "completed"
    },
    "tags": []
   },
   "source": [
    "# Functions"
   ]
  },
  {
   "cell_type": "code",
   "execution_count": 2,
   "id": "polyphonic-isolation",
   "metadata": {
    "execution": {
     "iopub.execute_input": "2021-06-14T19:14:27.761167Z",
     "iopub.status.busy": "2021-06-14T19:14:27.760507Z",
     "iopub.status.idle": "2021-06-14T19:14:27.763632Z",
     "shell.execute_reply": "2021-06-14T19:14:27.763101Z",
     "shell.execute_reply.started": "2021-06-14T19:10:33.507610Z"
    },
    "papermill": {
     "duration": 0.019771,
     "end_time": "2021-06-14T19:14:27.763768",
     "exception": false,
     "start_time": "2021-06-14T19:14:27.743997",
     "status": "completed"
    },
    "tags": []
   },
   "outputs": [],
   "source": [
    "# kernel smoothing function\n",
    "def kernel(point, xmat, k):\n",
    "    m,n = np.shape(xmat)\n",
    "    weights = np.mat(np.eye((m)))\n",
    "    \n",
    "    for j in range(m):\n",
    "        diff = point - X[j]\n",
    "        weights[j, j] = np.exp(diff * diff.T / (-2.0 * k**2))\n",
    "    \n",
    "    return weights\n",
    "\n",
    "# function to return local weight of eah traiining example\n",
    "def localWeight(point, xmat, ymat, k):\n",
    "    wt = kernel(point, xmat, k)\n",
    "    W = (X.T * (wt*X)).I * (X.T * wt * ymat.T)\n",
    "    return W\n",
    "\n",
    "# root function that drives the algorithm\n",
    "def localWeightRegression(xmat, ymat, k):\n",
    "    m,n = np.shape(xmat)\n",
    "    ypred = np.zeros(m)\n",
    "    \n",
    "    for i in range(m):\n",
    "        ypred[i] = xmat[i] * localWeight(xmat[i], xmat, ymat, k)\n",
    "        \n",
    "    return ypred"
   ]
  },
  {
   "cell_type": "markdown",
   "id": "union-phase",
   "metadata": {
    "papermill": {
     "duration": 0.007848,
     "end_time": "2021-06-14T19:14:27.779501",
     "exception": false,
     "start_time": "2021-06-14T19:14:27.771653",
     "status": "completed"
    },
    "tags": []
   },
   "source": [
    "# Data"
   ]
  },
  {
   "cell_type": "code",
   "execution_count": 3,
   "id": "electronic-setup",
   "metadata": {
    "execution": {
     "iopub.execute_input": "2021-06-14T19:14:27.802143Z",
     "iopub.status.busy": "2021-06-14T19:14:27.801496Z",
     "iopub.status.idle": "2021-06-14T19:14:27.830058Z",
     "shell.execute_reply": "2021-06-14T19:14:27.830945Z",
     "shell.execute_reply.started": "2021-06-14T19:13:47.565345Z"
    },
    "papermill": {
     "duration": 0.043604,
     "end_time": "2021-06-14T19:14:27.831172",
     "exception": false,
     "start_time": "2021-06-14T19:14:27.787568",
     "status": "completed"
    },
    "tags": []
   },
   "outputs": [
    {
     "name": "stdout",
     "output_type": "stream",
     "text": [
      "(244, 2)\n"
     ]
    }
   ],
   "source": [
    "#import data\n",
    "data = pd.read_csv('../input/tipsdata/tips.csv')\n",
    "\n",
    "# place them in suitable data types\n",
    "colA = np.array(data.total_bill)\n",
    "colB = np.array(data.tip)\n",
    "\n",
    "mcolA = np.mat(colA)\n",
    "mcolB = np.mat(colB)\n",
    "\n",
    "m = np.shape(mcolB)[1]\n",
    "one = np.ones((1, m), dtype = int)\n",
    "\n",
    "# horizontal stacking\n",
    "X = np.hstack((one.T, mcolA.T))\n",
    "print(X.shape)"
   ]
  },
  {
   "cell_type": "markdown",
   "id": "critical-hungarian",
   "metadata": {
    "papermill": {
     "duration": 0.007736,
     "end_time": "2021-06-14T19:14:27.848482",
     "exception": false,
     "start_time": "2021-06-14T19:14:27.840746",
     "status": "completed"
    },
    "tags": []
   },
   "source": [
    "# Model"
   ]
  },
  {
   "cell_type": "code",
   "execution_count": 4,
   "id": "municipal-universal",
   "metadata": {
    "execution": {
     "iopub.execute_input": "2021-06-14T19:14:27.867859Z",
     "iopub.status.busy": "2021-06-14T19:14:27.867194Z",
     "iopub.status.idle": "2021-06-14T19:14:29.818585Z",
     "shell.execute_reply": "2021-06-14T19:14:29.819505Z",
     "shell.execute_reply.started": "2021-06-14T19:13:50.302903Z"
    },
    "papermill": {
     "duration": 1.963216,
     "end_time": "2021-06-14T19:14:29.819803",
     "exception": false,
     "start_time": "2021-06-14T19:14:27.856587",
     "status": "completed"
    },
    "tags": []
   },
   "outputs": [],
   "source": [
    "# predicting values using LWLR\n",
    "ypred = localWeightRegression(X, mcolB, 0.8)"
   ]
  },
  {
   "cell_type": "markdown",
   "id": "exterior-allocation",
   "metadata": {
    "papermill": {
     "duration": 0.008682,
     "end_time": "2021-06-14T19:14:29.842814",
     "exception": false,
     "start_time": "2021-06-14T19:14:29.834132",
     "status": "completed"
    },
    "tags": []
   },
   "source": [
    "# Analysis"
   ]
  },
  {
   "cell_type": "code",
   "execution_count": 5,
   "id": "hairy-samba",
   "metadata": {
    "execution": {
     "iopub.execute_input": "2021-06-14T19:14:29.863206Z",
     "iopub.status.busy": "2021-06-14T19:14:29.862231Z",
     "iopub.status.idle": "2021-06-14T19:14:30.039700Z",
     "shell.execute_reply": "2021-06-14T19:14:30.038954Z",
     "shell.execute_reply.started": "2021-06-14T19:14:06.696932Z"
    },
    "papermill": {
     "duration": 0.18877,
     "end_time": "2021-06-14T19:14:30.039851",
     "exception": false,
     "start_time": "2021-06-14T19:14:29.851081",
     "status": "completed"
    },
    "tags": []
   },
   "outputs": [
    {
     "data": {
      "image/png": "[encoded data removed]",
      "text/plain": [
       "<Figure size 432x288 with 1 Axes>"
      ]
     },
     "metadata": {
      "needs_background": "light"
     },
     "output_type": "display_data"
    }
   ],
   "source": [
    "# plotting the predicted graph\n",
    "xsort = X.copy()\n",
    "xsort.sort(axis=0)\n",
    "plt.scatter(colA, colB, color='red')\n",
    "plt.plot(xsort[:, 1], ypred[X[:, 1].argsort(0)], color='blue', linewidth=5)\n",
    "plt.xlabel('Total Bill')\n",
    "plt.ylabel('Tip')\n",
    "plt.show()"
   ]
  },
  {
   "cell_type": "code",
   "execution_count": null,
   "id": "daily-headquarters",
   "metadata": {
    "papermill": {
     "duration": 0.008767,
     "end_time": "2021-06-14T19:14:30.057927",
     "exception": false,
     "start_time": "2021-06-14T19:14:30.049160",
     "status": "completed"
    },
    "tags": []
   },
   "outputs": [],
   "source": []
  }
 ],
 "metadata": {
  "kernelspec": {
   "display_name": "Python 3",
   "language": "python",
   "name": "python3"
  },
  "language_info": {
   "codemirror_mode": {
    "name": "ipython",
    "version": 3
   },
   "file_extension": ".py",
   "mimetype": "text/x-python",
   "name": "python",
   "nbconvert_exporter": "python",
   "pygments_lexer": "ipython3",
   "version": "3.7.9"
  },
  "papermill": {
   "default_parameters": {},
   "duration": 9.059925,
   "end_time": "2021-06-14T19:14:30.675708",
   "environment_variables": {},
   "exception": null,
   "input_path": "__notebook__.ipynb",
   "output_path": "__notebook__.ipynb",
   "parameters": {},
   "start_time": "2021-06-14T19:14:21.615783",
   "version": "2.3.2"
  }
 },
 "nbformat": 4,
 "nbformat_minor": 5
}
