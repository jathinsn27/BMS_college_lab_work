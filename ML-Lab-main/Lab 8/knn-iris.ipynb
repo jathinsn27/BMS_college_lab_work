{
 "cells": [
  {
   "cell_type": "code",
   "execution_count": 1,
   "id": "indirect-coalition",
   "metadata": {
    "_cell_guid": "b1076dfc-b9ad-4769-8c92-a6c4dae69d19",
    "_uuid": "8f2839f25d086af736a60e9eeb907d3b93b6e0e5",
    "execution": {
     "iopub.execute_input": "2021-06-14T16:52:45.510318Z",
     "iopub.status.busy": "2021-06-14T16:52:45.509200Z",
     "iopub.status.idle": "2021-06-14T16:52:46.575905Z",
     "shell.execute_reply": "2021-06-14T16:52:46.575110Z",
     "shell.execute_reply.started": "2021-06-14T16:50:10.745006Z"
    },
    "papermill": {
     "duration": 1.080548,
     "end_time": "2021-06-14T16:52:46.576083",
     "exception": false,
     "start_time": "2021-06-14T16:52:45.495535",
     "status": "completed"
    },
    "tags": []
   },
   "outputs": [],
   "source": [
    "import matplotlib.pyplot as plt\n",
    "import numpy as np\n",
    "import pandas as pd\n",
    "from sklearn.neighbors import KNeighborsClassifier\n",
    "from sklearn.metrics import accuracy_score, confusion_matrix, classification_report\n",
    "from sklearn.model_selection import train_test_split"
   ]
  },
  {
   "cell_type": "markdown",
   "id": "bearing-internship",
   "metadata": {
    "papermill": {
     "duration": 0.009141,
     "end_time": "2021-06-14T16:52:46.595154",
     "exception": false,
     "start_time": "2021-06-14T16:52:46.586013",
     "status": "completed"
    },
    "tags": []
   },
   "source": [
    "# Data"
   ]
  },
  {
   "cell_type": "code",
   "execution_count": 2,
   "id": "assisted-department",
   "metadata": {
    "execution": {
     "iopub.execute_input": "2021-06-14T16:52:46.618971Z",
     "iopub.status.busy": "2021-06-14T16:52:46.618333Z",
     "iopub.status.idle": "2021-06-14T16:52:46.633374Z",
     "shell.execute_reply": "2021-06-14T16:52:46.632774Z",
     "shell.execute_reply.started": "2021-06-14T16:46:47.472585Z"
    },
    "papermill": {
     "duration": 0.029009,
     "end_time": "2021-06-14T16:52:46.633510",
     "exception": false,
     "start_time": "2021-06-14T16:52:46.604501",
     "status": "completed"
    },
    "tags": []
   },
   "outputs": [],
   "source": [
    "data = pd.read_csv('../input/iris/Iris.csv')"
   ]
  },
  {
   "cell_type": "code",
   "execution_count": 3,
   "id": "nearby-uniform",
   "metadata": {
    "execution": {
     "iopub.execute_input": "2021-06-14T16:52:46.663485Z",
     "iopub.status.busy": "2021-06-14T16:52:46.662583Z",
     "iopub.status.idle": "2021-06-14T16:52:46.683663Z",
     "shell.execute_reply": "2021-06-14T16:52:46.684147Z",
     "shell.execute_reply.started": "2021-06-14T16:46:47.493354Z"
    },
    "papermill": {
     "duration": 0.041144,
     "end_time": "2021-06-14T16:52:46.684307",
     "exception": false,
     "start_time": "2021-06-14T16:52:46.643163",
     "status": "completed"
    },
    "tags": []
   },
   "outputs": [
    {
     "data": {
      "text/html": [
       "<div>\n",
       "<style scoped>\n",
       "    .dataframe tbody tr th:only-of-type {\n",
       "        vertical-align: middle;\n",
       "    }\n",
       "\n",
       "    .dataframe tbody tr th {\n",
       "        vertical-align: top;\n",
       "    }\n",
       "\n",
       "    .dataframe thead th {\n",
       "        text-align: right;\n",
       "    }\n",
       "</style>\n",
       "<table border=\"1\" class=\"dataframe\">\n",
       "  <thead>\n",
       "    <tr style=\"text-align: right;\">\n",
       "      <th></th>\n",
       "      <th>Id</th>\n",
       "      <th>SepalLengthCm</th>\n",
       "      <th>SepalWidthCm</th>\n",
       "      <th>PetalLengthCm</th>\n",
       "      <th>PetalWidthCm</th>\n",
       "      <th>Species</th>\n",
       "    </tr>\n",
       "  </thead>\n",
       "  <tbody>\n",
       "    <tr>\n",
       "      <th>0</th>\n",
       "      <td>1</td>\n",
       "      <td>5.1</td>\n",
       "      <td>3.5</td>\n",
       "      <td>1.4</td>\n",
       "      <td>0.2</td>\n",
       "      <td>Iris-setosa</td>\n",
       "    </tr>\n",
       "    <tr>\n",
       "      <th>1</th>\n",
       "      <td>2</td>\n",
       "      <td>4.9</td>\n",
       "      <td>3.0</td>\n",
       "      <td>1.4</td>\n",
       "      <td>0.2</td>\n",
       "      <td>Iris-setosa</td>\n",
       "    </tr>\n",
       "    <tr>\n",
       "      <th>2</th>\n",
       "      <td>3</td>\n",
       "      <td>4.7</td>\n",
       "      <td>3.2</td>\n",
       "      <td>1.3</td>\n",
       "      <td>0.2</td>\n",
       "      <td>Iris-setosa</td>\n",
       "    </tr>\n",
       "    <tr>\n",
       "      <th>3</th>\n",
       "      <td>4</td>\n",
       "      <td>4.6</td>\n",
       "      <td>3.1</td>\n",
       "      <td>1.5</td>\n",
       "      <td>0.2</td>\n",
       "      <td>Iris-setosa</td>\n",
       "    </tr>\n",
       "    <tr>\n",
       "      <th>4</th>\n",
       "      <td>5</td>\n",
       "      <td>5.0</td>\n",
       "      <td>3.6</td>\n",
       "      <td>1.4</td>\n",
       "      <td>0.2</td>\n",
       "      <td>Iris-setosa</td>\n",
       "    </tr>\n",
       "  </tbody>\n",
       "</table>\n",
       "</div>"
      ],
      "text/plain": [
       "   Id  SepalLengthCm  SepalWidthCm  PetalLengthCm  PetalWidthCm      Species\n",
       "0   1            5.1           3.5            1.4           0.2  Iris-setosa\n",
       "1   2            4.9           3.0            1.4           0.2  Iris-setosa\n",
       "2   3            4.7           3.2            1.3           0.2  Iris-setosa\n",
       "3   4            4.6           3.1            1.5           0.2  Iris-setosa\n",
       "4   5            5.0           3.6            1.4           0.2  Iris-setosa"
      ]
     },
     "execution_count": 3,
     "metadata": {},
     "output_type": "execute_result"
    }
   ],
   "source": [
    "data.head()"
   ]
  },
  {
   "cell_type": "code",
   "execution_count": 4,
   "id": "speaking-classic",
   "metadata": {
    "execution": {
     "iopub.execute_input": "2021-06-14T16:52:46.715647Z",
     "iopub.status.busy": "2021-06-14T16:52:46.714601Z",
     "iopub.status.idle": "2021-06-14T16:52:46.738468Z",
     "shell.execute_reply": "2021-06-14T16:52:46.737971Z",
     "shell.execute_reply.started": "2021-06-14T16:46:47.524659Z"
    },
    "papermill": {
     "duration": 0.043949,
     "end_time": "2021-06-14T16:52:46.738602",
     "exception": false,
     "start_time": "2021-06-14T16:52:46.694653",
     "status": "completed"
    },
    "tags": []
   },
   "outputs": [
    {
     "data": {
      "text/html": [
       "<div>\n",
       "<style scoped>\n",
       "    .dataframe tbody tr th:only-of-type {\n",
       "        vertical-align: middle;\n",
       "    }\n",
       "\n",
       "    .dataframe tbody tr th {\n",
       "        vertical-align: top;\n",
       "    }\n",
       "\n",
       "    .dataframe thead th {\n",
       "        text-align: right;\n",
       "    }\n",
       "</style>\n",
       "<table border=\"1\" class=\"dataframe\">\n",
       "  <thead>\n",
       "    <tr style=\"text-align: right;\">\n",
       "      <th></th>\n",
       "      <th>Id</th>\n",
       "      <th>SepalLengthCm</th>\n",
       "      <th>SepalWidthCm</th>\n",
       "      <th>PetalLengthCm</th>\n",
       "      <th>PetalWidthCm</th>\n",
       "    </tr>\n",
       "  </thead>\n",
       "  <tbody>\n",
       "    <tr>\n",
       "      <th>count</th>\n",
       "      <td>150.000000</td>\n",
       "      <td>150.000000</td>\n",
       "      <td>150.000000</td>\n",
       "      <td>150.000000</td>\n",
       "      <td>150.000000</td>\n",
       "    </tr>\n",
       "    <tr>\n",
       "      <th>mean</th>\n",
       "      <td>75.500000</td>\n",
       "      <td>5.843333</td>\n",
       "      <td>3.054000</td>\n",
       "      <td>3.758667</td>\n",
       "      <td>1.198667</td>\n",
       "    </tr>\n",
       "    <tr>\n",
       "      <th>std</th>\n",
       "      <td>43.445368</td>\n",
       "      <td>0.828066</td>\n",
       "      <td>0.433594</td>\n",
       "      <td>1.764420</td>\n",
       "      <td>0.763161</td>\n",
       "    </tr>\n",
       "    <tr>\n",
       "      <th>min</th>\n",
       "      <td>1.000000</td>\n",
       "      <td>4.300000</td>\n",
       "      <td>2.000000</td>\n",
       "      <td>1.000000</td>\n",
       "      <td>0.100000</td>\n",
       "    </tr>\n",
       "    <tr>\n",
       "      <th>25%</th>\n",
       "      <td>38.250000</td>\n",
       "      <td>5.100000</td>\n",
       "      <td>2.800000</td>\n",
       "      <td>1.600000</td>\n",
       "      <td>0.300000</td>\n",
       "    </tr>\n",
       "    <tr>\n",
       "      <th>50%</th>\n",
       "      <td>75.500000</td>\n",
       "      <td>5.800000</td>\n",
       "      <td>3.000000</td>\n",
       "      <td>4.350000</td>\n",
       "      <td>1.300000</td>\n",
       "    </tr>\n",
       "    <tr>\n",
       "      <th>75%</th>\n",
       "      <td>112.750000</td>\n",
       "      <td>6.400000</td>\n",
       "      <td>3.300000</td>\n",
       "      <td>5.100000</td>\n",
       "      <td>1.800000</td>\n",
       "    </tr>\n",
       "    <tr>\n",
       "      <th>max</th>\n",
       "      <td>150.000000</td>\n",
       "      <td>7.900000</td>\n",
       "      <td>4.400000</td>\n",
       "      <td>6.900000</td>\n",
       "      <td>2.500000</td>\n",
       "    </tr>\n",
       "  </tbody>\n",
       "</table>\n",
       "</div>"
      ],
      "text/plain": [
       "               Id  SepalLengthCm  SepalWidthCm  PetalLengthCm  PetalWidthCm\n",
       "count  150.000000     150.000000    150.000000     150.000000    150.000000\n",
       "mean    75.500000       5.843333      3.054000       3.758667      1.198667\n",
       "std     43.445368       0.828066      0.433594       1.764420      0.763161\n",
       "min      1.000000       4.300000      2.000000       1.000000      0.100000\n",
       "25%     38.250000       5.100000      2.800000       1.600000      0.300000\n",
       "50%     75.500000       5.800000      3.000000       4.350000      1.300000\n",
       "75%    112.750000       6.400000      3.300000       5.100000      1.800000\n",
       "max    150.000000       7.900000      4.400000       6.900000      2.500000"
      ]
     },
     "execution_count": 4,
     "metadata": {},
     "output_type": "execute_result"
    }
   ],
   "source": [
    "data.describe()"
   ]
  },
  {
   "cell_type": "code",
   "execution_count": 5,
   "id": "shaped-harassment",
   "metadata": {
    "execution": {
     "iopub.execute_input": "2021-06-14T16:52:46.774779Z",
     "iopub.status.busy": "2021-06-14T16:52:46.773158Z",
     "iopub.status.idle": "2021-06-14T16:52:46.777976Z",
     "shell.execute_reply": "2021-06-14T16:52:46.777465Z",
     "shell.execute_reply.started": "2021-06-14T16:50:43.515267Z"
    },
    "papermill": {
     "duration": 0.029069,
     "end_time": "2021-06-14T16:52:46.778108",
     "exception": false,
     "start_time": "2021-06-14T16:52:46.749039",
     "status": "completed"
    },
    "tags": []
   },
   "outputs": [],
   "source": [
    "X = data[['SepalLengthCm', 'SepalWidthCm', 'PetalLengthCm', 'PetalWidthCm']]\n",
    "sepal_X = data[['SepalLengthCm', 'SepalWidthCm']]\n",
    "petal_X = data[['PetalLengthCm', 'PetalWidthCm']]\n",
    "y = data['Species'].astype(\"category\").cat.codes\n",
    "num_cat = y.nunique()\n",
    "categories = data['Species'].astype(\"category\").cat.categories\n",
    "X_train, X_test, y_train, y_test = train_test_split(X, y, test_size=0.33, random_state=42)"
   ]
  },
  {
   "cell_type": "markdown",
   "id": "national-booth",
   "metadata": {
    "papermill": {
     "duration": 0.010456,
     "end_time": "2021-06-14T16:52:46.799009",
     "exception": false,
     "start_time": "2021-06-14T16:52:46.788553",
     "status": "completed"
    },
    "tags": []
   },
   "source": [
    "# Model"
   ]
  },
  {
   "cell_type": "code",
   "execution_count": 6,
   "id": "outside-xerox",
   "metadata": {
    "execution": {
     "iopub.execute_input": "2021-06-14T16:52:46.842463Z",
     "iopub.status.busy": "2021-06-14T16:52:46.841771Z",
     "iopub.status.idle": "2021-06-14T16:52:47.013648Z",
     "shell.execute_reply": "2021-06-14T16:52:47.012751Z",
     "shell.execute_reply.started": "2021-06-14T16:46:47.578751Z"
    },
    "papermill": {
     "duration": 0.204058,
     "end_time": "2021-06-14T16:52:47.013796",
     "exception": false,
     "start_time": "2021-06-14T16:52:46.809738",
     "status": "completed"
    },
    "tags": []
   },
   "outputs": [],
   "source": [
    "scores = {}\n",
    "scores_list = []\n",
    "for k in range(1, 26):\n",
    "    knn = KNeighborsClassifier(n_neighbors=k)\n",
    "    knn.fit(X_train, y_train)\n",
    "    y_pred = knn.predict(X_test)\n",
    "    scores[k] = accuracy_score(y_test, y_pred)\n",
    "    scores_list.append(scores[k])"
   ]
  },
  {
   "cell_type": "markdown",
   "id": "adaptive-costume",
   "metadata": {
    "papermill": {
     "duration": 0.010251,
     "end_time": "2021-06-14T16:52:47.034989",
     "exception": false,
     "start_time": "2021-06-14T16:52:47.024738",
     "status": "completed"
    },
    "tags": []
   },
   "source": [
    "# Analysis"
   ]
  },
  {
   "cell_type": "code",
   "execution_count": 7,
   "id": "weekly-practice",
   "metadata": {
    "execution": {
     "iopub.execute_input": "2021-06-14T16:52:47.076090Z",
     "iopub.status.busy": "2021-06-14T16:52:47.075444Z",
     "iopub.status.idle": "2021-06-14T16:52:47.231325Z",
     "shell.execute_reply": "2021-06-14T16:52:47.230672Z",
     "shell.execute_reply.started": "2021-06-14T16:46:47.735950Z"
    },
    "papermill": {
     "duration": 0.186087,
     "end_time": "2021-06-14T16:52:47.231460",
     "exception": false,
     "start_time": "2021-06-14T16:52:47.045373",
     "status": "completed"
    },
    "tags": []
   },
   "outputs": [
    {
     "data": {
      "image/png": "[encoded data removed]",
      "text/plain": [
       "<Figure size 432x288 with 1 Axes>"
      ]
     },
     "metadata": {
      "needs_background": "light"
     },
     "output_type": "display_data"
    }
   ],
   "source": [
    "plt.plot(range(1, 26), scores_list)\n",
    "plt.xlabel('K')\n",
    "plt.ylabel('Accuracy')\n",
    "plt.show()"
   ]
  },
  {
   "cell_type": "code",
   "execution_count": 8,
   "id": "directed-woman",
   "metadata": {
    "execution": {
     "iopub.execute_input": "2021-06-14T16:52:47.264628Z",
     "iopub.status.busy": "2021-06-14T16:52:47.263999Z",
     "iopub.status.idle": "2021-06-14T16:52:47.279821Z",
     "shell.execute_reply": "2021-06-14T16:52:47.279212Z",
     "shell.execute_reply.started": "2021-06-14T16:51:15.357302Z"
    },
    "papermill": {
     "duration": 0.037088,
     "end_time": "2021-06-14T16:52:47.279974",
     "exception": false,
     "start_time": "2021-06-14T16:52:47.242886",
     "status": "completed"
    },
    "tags": []
   },
   "outputs": [
    {
     "name": "stdout",
     "output_type": "stream",
     "text": [
      "Confusion Matrix\n",
      "[[19  0  0]\n",
      " [ 0 15  0]\n",
      " [ 0  1 15]]\n",
      "Correct Predictions: 0.98\n",
      "Wrong Predictions: 0.020000000000000018\n",
      "Accuracy Metrics: \n",
      "              precision    recall  f1-score   support\n",
      "\n",
      "           0       1.00      1.00      1.00        19\n",
      "           1       0.94      1.00      0.97        15\n",
      "           2       1.00      0.94      0.97        16\n",
      "\n",
      "    accuracy                           0.98        50\n",
      "   macro avg       0.98      0.98      0.98        50\n",
      "weighted avg       0.98      0.98      0.98        50\n",
      "\n"
     ]
    }
   ],
   "source": [
    "knn = KNeighborsClassifier(n_neighbors=5)\n",
    "knn.fit(X_train, y_train)\n",
    "y_pred = knn.predict(X_test)\n",
    "print(\"Confusion Matrix\") \n",
    "print(confusion_matrix(y_test, y_pred))\n",
    "print(f\"Correct Predictions: {accuracy_score(y_test, y_pred)}\")\n",
    "print(f\"Wrong Predictions: {1 - accuracy_score(y_test, y_pred)}\")\n",
    "print(\"Accuracy Metrics: \")\n",
    "print(classification_report(y_test,y_pred))"
   ]
  },
  {
   "cell_type": "code",
   "execution_count": null,
   "id": "terminal-interference",
   "metadata": {
    "papermill": {
     "duration": 0.011393,
     "end_time": "2021-06-14T16:52:47.303246",
     "exception": false,
     "start_time": "2021-06-14T16:52:47.291853",
     "status": "completed"
    },
    "tags": []
   },
   "outputs": [],
   "source": []
  }
 ],
 "metadata": {
  "kernelspec": {
   "display_name": "Python 3",
   "language": "python",
   "name": "python3"
  },
  "language_info": {
   "codemirror_mode": {
    "name": "ipython",
    "version": 3
   },
   "file_extension": ".py",
   "mimetype": "text/x-python",
   "name": "python",
   "nbconvert_exporter": "python",
   "pygments_lexer": "ipython3",
   "version": "3.7.10"
  },
  "papermill": {
   "default_parameters": {},
   "duration": 10.77749,
   "end_time": "2021-06-14T16:52:48.654447",
   "environment_variables": {},
   "exception": null,
   "input_path": "__notebook__.ipynb",
   "output_path": "__notebook__.ipynb",
   "parameters": {},
   "start_time": "2021-06-14T16:52:37.876957",
   "version": "2.3.3"
  }
 },
 "nbformat": 4,
 "nbformat_minor": 5
}
